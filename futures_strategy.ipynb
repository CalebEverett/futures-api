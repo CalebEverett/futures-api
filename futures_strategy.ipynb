{
 "cells": [
  {
   "cell_type": "markdown",
   "source": [
    "# Futures Strategy"
   ],
   "metadata": {}
  },
  {
   "cell_type": "markdown",
   "source": [
    "## Imports"
   ],
   "metadata": {}
  },
  {
   "cell_type": "code",
   "execution_count": null,
   "source": [
    "# <imports>\n",
    "import pandas as pd\n",
    "import requests\n"
   ],
   "outputs": [],
   "metadata": {}
  },
  {
   "cell_type": "markdown",
   "source": [
    "## Trades"
   ],
   "metadata": {}
  },
  {
   "cell_type": "code",
   "execution_count": null,
   "source": [
    "r = requests.get(\"http://localhost:8000/trades\")\n",
    "data = r.json()"
   ],
   "outputs": [],
   "metadata": {}
  },
  {
   "cell_type": "code",
   "execution_count": null,
   "source": [
    "\n",
    "data[0].keys()"
   ],
   "outputs": [],
   "metadata": {}
  },
  {
   "cell_type": "markdown",
   "source": [
    "## Income\n"
   ],
   "metadata": {}
  },
  {
   "cell_type": "code",
   "execution_count": null,
   "source": [
    "r_income = requests.get(\"http://localhost:8000/income-history\")\n",
    "income_data = r_income.json()\n",
    "df_i = pd.DataFrame([i for i in income_data if i[\"incomeType\"] == \"FUNDING_FEE\"]).astype({\"income\": float})\n",
    "df_i.groupby(\"symbol\").sum()[\"income\"]"
   ],
   "outputs": [],
   "metadata": {}
  },
  {
   "cell_type": "markdown",
   "source": [
    "## Trades"
   ],
   "metadata": {}
  },
  {
   "cell_type": "code",
   "execution_count": null,
   "source": [
    "df = pd.DataFrame(data)\n",
    "df = df.groupby(\"symbol\").sum()[[\"commissionTotal\", \"realizedPnlTotal\"]]\n",
    "df.columns = [\"commission\", \"realizedPnl\"]\n",
    "df[\"fundingFee\"] = df_i.groupby(\"symbol\").sum()[\"income\"]\n",
    "df.commission = df.commission * -1\n",
    "df[\"Total\"] = df.sum(axis=1)\n",
    "df = df.T\n",
    "df[\"Total\"] = df.sum(axis=1)\n",
    "df"
   ],
   "outputs": [],
   "metadata": {}
  }
 ],
 "metadata": {
  "kernelspec": {
   "display_name": "Python 3.8.5 64-bit ('accumulation_opportunity-3KktX0-n': pipenv)",
   "name": "python385jvsc74a57bd0986765e885b93fe436a4e7ca800ac30b39ab6eb7110d958f36f28aa743766d57"
  },
  "language_info": {
   "name": "python",
   "version": ""
  },
  "orig_nbformat": 2
 },
 "nbformat": 4,
 "nbformat_minor": 2
}