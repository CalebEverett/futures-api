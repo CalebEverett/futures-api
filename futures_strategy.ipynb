{
 "cells": [
  {
   "cell_type": "markdown",
   "source": [
    "# Futures Strategy"
   ],
   "metadata": {}
  },
  {
   "cell_type": "markdown",
   "source": [
    "## Imports"
   ],
   "metadata": {}
  },
  {
   "cell_type": "code",
   "execution_count": 1,
   "source": [
    "# <imports>\n",
    "import pandas as pd\n",
    "import numpy as np\n",
    "import requests\n",
    "\n",
    "# import plotly.io as pio\n",
    "# pd.options.plotting.backend = \"plotly\"\n",
    "# pio.templates.default = \"none\""
   ],
   "outputs": [],
   "metadata": {}
  },
  {
   "cell_type": "markdown",
   "source": [
    "## Trades"
   ],
   "metadata": {}
  },
  {
   "cell_type": "code",
   "execution_count": 4,
   "source": [
    "r = requests.get(\"http://localhost:8000/trades\")\n",
    "data = r.json()\n",
    "df.dtypes"
   ],
   "outputs": [
    {
     "output_type": "execute_result",
     "data": {
      "text/plain": [
       "id                     int64\n",
       "symbol                object\n",
       "time                   int64\n",
       "orderIdFuture          int64\n",
       "sideFuture            object\n",
       "qtyFuture            float64\n",
       "priceFuture          float64\n",
       "quoteQtyFuture       float64\n",
       "commissionFuture     float64\n",
       "realizedPnlFuture    float64\n",
       "orderIdMargin          int64\n",
       "sideMargin            object\n",
       "qtyMargin            float64\n",
       "priceMargin          float64\n",
       "quoteQtyMargin       float64\n",
       "commissionMargin     float64\n",
       "realizedPnlMargin    float64\n",
       "commissionTotal      float64\n",
       "realizedPnlTotal     float64\n",
       "dtype: object"
      ]
     },
     "metadata": {},
     "execution_count": 4
    }
   ],
   "metadata": {}
  },
  {
   "cell_type": "markdown",
   "source": [
    "## Income\n"
   ],
   "metadata": {}
  },
  {
   "cell_type": "code",
   "execution_count": 3,
   "source": [
    "r_income = requests.get(\"http://localhost:8000/income-history\")\n",
    "income_data = r_income.json()\n",
    "df_i = pd.DataFrame([i for i in income_data if i[\"incomeType\"] == \"FUNDING_FEE\"]).astype({\"income\": float})\n",
    "df_i.groupby(\"symbol\").sum()[\"income\"]"
   ],
   "outputs": [
    {
     "output_type": "execute_result",
     "data": {
      "text/plain": [
       "symbol\n",
       "BTCUSDT    0.133089\n",
       "DOTUSDT    0.084551\n",
       "ETHUSDT    0.014862\n",
       "Name: income, dtype: float64"
      ]
     },
     "metadata": {},
     "execution_count": 3
    }
   ],
   "metadata": {}
  },
  {
   "cell_type": "markdown",
   "source": [
    "## Trades"
   ],
   "metadata": {}
  },
  {
   "cell_type": "code",
   "execution_count": 7,
   "source": [
    "df = pd.DataFrame(data)\n",
    "df = df.groupby(\"symbol\").sum()[[\"commissionTotal\", \"realizedPnlTotal\"]]\n",
    "df.columns = [\"commission\", \"realizedPnl\"]\n",
    "df[\"fundingFee\"] = df_i.groupby(\"symbol\").sum()[\"income\"]\n",
    "df.commission = df.commission * -1\n",
    "df[\"Total\"] = df.sum(axis=1)\n",
    "df = df.T\n",
    "df[\"Total\"] = df.sum(axis=1)\n",
    "df"
   ],
   "outputs": [
    {
     "output_type": "execute_result",
     "data": {
      "text/plain": [
       "symbol        BTCUSDT  DOGEUSDT   DOTUSDT   ETHUSDT     Total\n",
       "commission  -8.244763 -0.279878 -0.261151 -0.417582 -9.203373\n",
       "realizedPnl  0.197672  0.000000  0.000000  0.135700  0.333372\n",
       "fundingFee   0.133089       NaN  0.084551  0.014862  0.232501\n",
       "Total       -7.914002 -0.279878 -0.176600 -0.267020 -8.637500"
      ],
      "text/html": [
       "<div>\n",
       "<style scoped>\n",
       "    .dataframe tbody tr th:only-of-type {\n",
       "        vertical-align: middle;\n",
       "    }\n",
       "\n",
       "    .dataframe tbody tr th {\n",
       "        vertical-align: top;\n",
       "    }\n",
       "\n",
       "    .dataframe thead th {\n",
       "        text-align: right;\n",
       "    }\n",
       "</style>\n",
       "<table border=\"1\" class=\"dataframe\">\n",
       "  <thead>\n",
       "    <tr style=\"text-align: right;\">\n",
       "      <th>symbol</th>\n",
       "      <th>BTCUSDT</th>\n",
       "      <th>DOGEUSDT</th>\n",
       "      <th>DOTUSDT</th>\n",
       "      <th>ETHUSDT</th>\n",
       "      <th>Total</th>\n",
       "    </tr>\n",
       "  </thead>\n",
       "  <tbody>\n",
       "    <tr>\n",
       "      <th>commission</th>\n",
       "      <td>-8.244763</td>\n",
       "      <td>-0.279878</td>\n",
       "      <td>-0.261151</td>\n",
       "      <td>-0.417582</td>\n",
       "      <td>-9.203373</td>\n",
       "    </tr>\n",
       "    <tr>\n",
       "      <th>realizedPnl</th>\n",
       "      <td>0.197672</td>\n",
       "      <td>0.000000</td>\n",
       "      <td>0.000000</td>\n",
       "      <td>0.135700</td>\n",
       "      <td>0.333372</td>\n",
       "    </tr>\n",
       "    <tr>\n",
       "      <th>fundingFee</th>\n",
       "      <td>0.133089</td>\n",
       "      <td>NaN</td>\n",
       "      <td>0.084551</td>\n",
       "      <td>0.014862</td>\n",
       "      <td>0.232501</td>\n",
       "    </tr>\n",
       "    <tr>\n",
       "      <th>Total</th>\n",
       "      <td>-7.914002</td>\n",
       "      <td>-0.279878</td>\n",
       "      <td>-0.176600</td>\n",
       "      <td>-0.267020</td>\n",
       "      <td>-8.637500</td>\n",
       "    </tr>\n",
       "  </tbody>\n",
       "</table>\n",
       "</div>"
      ]
     },
     "metadata": {},
     "execution_count": 7
    }
   ],
   "metadata": {}
  }
 ],
 "metadata": {
  "kernelspec": {
   "display_name": "Python 3.8.5 64-bit ('accumulation_opportunity-3KktX0-n': pipenv)",
   "name": "python385jvsc74a57bd0986765e885b93fe436a4e7ca800ac30b39ab6eb7110d958f36f28aa743766d57"
  },
  "language_info": {
   "name": "python",
   "version": ""
  },
  "orig_nbformat": 2
 },
 "nbformat": 4,
 "nbformat_minor": 2
}